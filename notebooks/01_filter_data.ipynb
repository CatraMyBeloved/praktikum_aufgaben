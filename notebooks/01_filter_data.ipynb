{
 "cells": [
  {
   "metadata": {
    "ExecuteTime": {
     "end_time": "2025-09-23T13:25:50.408460Z",
     "start_time": "2025-09-23T13:25:50.405686Z"
    }
   },
   "cell_type": "code",
   "source": [
    "import pandas as pd\n",
    "import numpy as np"
   ],
   "id": "7953907f5d0bd79",
   "outputs": [],
   "execution_count": 50
  },
  {
   "metadata": {
    "ExecuteTime": {
     "end_time": "2025-09-23T13:25:50.740311Z",
     "start_time": "2025-09-23T13:25:50.712962Z"
    }
   },
   "cell_type": "code",
   "source": [
    "movie_dataset = pd.read_csv(\"../data/movies/movie_metadata.csv\")"
   ],
   "id": "8bf35a799eaecb5",
   "outputs": [],
   "execution_count": 51
  },
  {
   "metadata": {
    "ExecuteTime": {
     "end_time": "2025-09-23T13:25:51.040890Z",
     "start_time": "2025-09-23T13:25:51.033539Z"
    }
   },
   "cell_type": "code",
   "source": [
    "movie_dataset = movie_dataset[\n",
    "    [\n",
    "        \"director_name\",\n",
    "        \"num_critic_for_reviews\",\n",
    "        \"duration\",\n",
    "        \"genres\",\n",
    "        \"actor_1_name\",\n",
    "        \"actor_2_name\",\n",
    "        \"actor_3_name\",\n",
    "        \"gross\",\n",
    "        \"movie_title\",\n",
    "        \"num_voted_users\",\n",
    "        \"plot_keywords\",\n",
    "        \"budget\",\n",
    "        \"title_year\",\n",
    "        \"imdb_score\",\n",
    "    ]\n",
    "]\n",
    "essential_cols = [\"movie_title\", \"title_year\", \"imdb_score\", \"duration\", \"genres\"]\n",
    "movie_dataset_filtered = movie_dataset[\n",
    "    movie_dataset[essential_cols].notna().all(axis=1)\n",
    "]"
   ],
   "id": "aad1c6b7711d1c7e",
   "outputs": [],
   "execution_count": 52
  },
  {
   "metadata": {
    "ExecuteTime": {
     "end_time": "2025-09-23T13:25:51.332921Z",
     "start_time": "2025-09-23T13:25:51.257207Z"
    }
   },
   "cell_type": "code",
   "source": [
    "movie_dataset_filtered.to_csv(\"../data/movies/filtered_movie_metadata.csv\", index=False)\n",
    "movie_dataset.dropna().to_csv(\n",
    "    \"../data/movies/filtered_movie_metadata_no_na.csv\", index=False\n",
    ")"
   ],
   "id": "271119a7d21bcfe0",
   "outputs": [],
   "execution_count": 53
  },
  {
   "metadata": {
    "ExecuteTime": {
     "end_time": "2025-09-23T13:25:51.828809Z",
     "start_time": "2025-09-23T13:25:51.456497Z"
    }
   },
   "cell_type": "code",
   "source": [
    "olympics_dataset = pd.read_csv(\"../data/olympics/athlete_events.csv\")"
   ],
   "id": "cf8210c90098d61b",
   "outputs": [],
   "execution_count": 54
  },
  {
   "metadata": {
    "ExecuteTime": {
     "end_time": "2025-09-23T13:25:51.862850Z",
     "start_time": "2025-09-23T13:25:51.840387Z"
    }
   },
   "cell_type": "code",
   "source": [
    "olympics_dataset_filtered = olympics_dataset.dropna(subset=[\"Medal\"])\n",
    "olympics_dataset_filtered = olympics_dataset_filtered[\n",
    "    (olympics_dataset_filtered[\"Season\"] == \"Summer\")\n",
    "    & (olympics_dataset_filtered[\"Year\"] > 1988)\n",
    "]"
   ],
   "id": "84922e827305afe6",
   "outputs": [],
   "execution_count": 55
  },
  {
   "metadata": {
    "ExecuteTime": {
     "end_time": "2025-09-23T13:25:51.929872Z",
     "start_time": "2025-09-23T13:25:51.870931Z"
    }
   },
   "cell_type": "code",
   "source": [
    "olympics_dataset_filtered.to_csv(\n",
    "    \"../data/olympics/filtered_athlete_events.csv\", index=False\n",
    ")"
   ],
   "id": "799308e3e5d6c8a2",
   "outputs": [],
   "execution_count": 56
  },
  {
   "metadata": {
    "ExecuteTime": {
     "end_time": "2025-09-23T13:25:53.068294Z",
     "start_time": "2025-09-23T13:25:52.814063Z"
    }
   },
   "cell_type": "code",
   "source": [
    "spotify_dataset = pd.read_csv(\"../data/spotify/spotify_data.csv\")"
   ],
   "id": "ad3a5bc96b4143c6",
   "outputs": [],
   "execution_count": 57
  },
  {
   "metadata": {
    "ExecuteTime": {
     "end_time": "2025-09-23T13:25:53.393672Z",
     "start_time": "2025-09-23T13:25:53.375975Z"
    }
   },
   "cell_type": "code",
   "source": [
    "spotify_dataset = spotify_dataset[spotify_dataset[\"popularity\"] >= 50]\n",
    "filtered_spotify_dataset = spotify_dataset.drop_duplicates(\n",
    "    subset=[\"track_name\"], keep=\"first\"\n",
    ")"
   ],
   "id": "1d9b1046951b8b0e",
   "outputs": [],
   "execution_count": 58
  },
  {
   "metadata": {
    "ExecuteTime": {
     "end_time": "2025-09-23T13:25:54.099760Z",
     "start_time": "2025-09-23T13:25:53.962176Z"
    }
   },
   "cell_type": "code",
   "source": [
    "filtered_spotify_dataset.to_csv(\n",
    "    \"../data/spotify/filtered_spotify_data.csv\", index=False\n",
    ")"
   ],
   "id": "6e7c18c6680e6892",
   "outputs": [],
   "execution_count": 59
  }
 ],
 "metadata": {
  "kernelspec": {
   "display_name": "Python 3",
   "language": "python",
   "name": "python3"
  },
  "language_info": {
   "codemirror_mode": {
    "name": "ipython",
    "version": 2
   },
   "file_extension": ".py",
   "mimetype": "text/x-python",
   "name": "python",
   "nbconvert_exporter": "python",
   "pygments_lexer": "ipython2",
   "version": "2.7.6"
  }
 },
 "nbformat": 4,
 "nbformat_minor": 5
}
