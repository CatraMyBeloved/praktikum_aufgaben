{
 "cells": [
  {
   "cell_type": "code",
   "id": "initial_id",
   "metadata": {
    "collapsed": true,
    "ExecuteTime": {
     "end_time": "2025-09-24T09:20:18.546863Z",
     "start_time": "2025-09-24T09:20:18.094050Z"
    }
   },
   "source": [
    "import pandas as pd\n",
    "\n"
   ],
   "outputs": [],
   "execution_count": 1
  },
  {
   "metadata": {
    "ExecuteTime": {
     "end_time": "2025-09-24T09:20:19.285418Z",
     "start_time": "2025-09-24T09:20:19.185458Z"
    }
   },
   "cell_type": "code",
   "source": [
    "movies = pd.read_csv(\"../data/movies/filtered_movie_metadata.csv\")\n",
    "olympics = pd.read_csv(\"../data/olympics/filtered_athlete_events.csv\")\n",
    "spotify = pd.read_csv(\"../data/spotify/filtered_spotify_data.csv\")"
   ],
   "id": "9dd58af459949dc7",
   "outputs": [],
   "execution_count": 2
  },
  {
   "metadata": {
    "ExecuteTime": {
     "end_time": "2025-09-24T09:20:20.745941Z",
     "start_time": "2025-09-24T09:20:20.311751Z"
    }
   },
   "cell_type": "code",
   "source": "import sys\nsys.path.append('..')\nfrom src.helpers import plot, filter_data, add_columns, summarize_by_group, get_top_n\nprint(\"Successfully imported all helper functions!\")\nprint(\"Available functions: plot, filter_data, add_columns, summarize_by_group, get_top_n\")",
   "id": "5fe9baa132955134",
   "outputs": [
    {
     "name": "stdout",
     "output_type": "stream",
     "text": [
      "Successfully imported all helper functions!\n",
      "Available functions: plot, filter_data, add_columns, summarize_by_group, get_top_n\n"
     ]
    }
   ],
   "execution_count": 3
  },
  {
   "metadata": {
    "ExecuteTime": {
     "end_time": "2025-09-24T09:21:12.239997Z",
     "start_time": "2025-09-24T09:21:12.078276Z"
    }
   },
   "cell_type": "code",
   "source": "plot(movies, plot_type='distribution', x='imdb_score')",
   "id": "cd8906e848cc44ac",
   "outputs": [
    {
     "data": {
      "text/plain": [
       "<Figure size 1200x600 with 1 Axes>"
      ],
      "image/png": "[encoded data removed]"
     },
     "metadata": {},
     "output_type": "display_data",
     "jetTransient": {
      "display_id": null
     }
    }
   ],
   "execution_count": 6
  },
  {
   "metadata": {
    "ExecuteTime": {
     "end_time": "2025-09-24T09:30:53.619384Z",
     "start_time": "2025-09-24T09:30:53.608085Z"
    }
   },
   "cell_type": "code",
   "source": "filter_data(movies, imdb_score_min=7.0, plot_keywords = 'goddess')",
   "id": "5fec0cdb037f1a1",
   "outputs": [
    {
     "data": {
      "text/plain": [
       "       director_name  num_critic_for_reviews  duration  \\\n",
       "1     Gore Verbinski                   302.0     169.0   \n",
       "1485  Hayao Miyazaki                   256.0     101.0   \n",
       "\n",
       "                                  genres  actor_1_name   actor_2_name  \\\n",
       "1               Action|Adventure|Fantasy   Johnny Depp  Orlando Bloom   \n",
       "1485  Adventure|Animation|Family|Fantasy  Rumi Hiiragi     Yûki Amami   \n",
       "\n",
       "        actor_3_name        gross                                movie_title  \\\n",
       "1     Jack Davenport  309404152.0  Pirates of the Caribbean: At World's End    \n",
       "1485      Yuria Nara   15081783.0                                     Ponyo    \n",
       "\n",
       "      num_voted_users                                      plot_keywords  \\\n",
       "1              471220  goddess|marriage ceremony|marriage proposal|pi...   \n",
       "1485            85589  children adventure|magical realism|sea goddess...   \n",
       "\n",
       "           budget  title_year  imdb_score  \n",
       "1     300000000.0      2007.0         7.1  \n",
       "1485   34000000.0      2008.0         7.7  "
      ],
      "text/html": [
       "<div>\n",
       "<style scoped>\n",
       "    .dataframe tbody tr th:only-of-type {\n",
       "        vertical-align: middle;\n",
       "    }\n",
       "\n",
       "    .dataframe tbody tr th {\n",
       "        vertical-align: top;\n",
       "    }\n",
       "\n",
       "    .dataframe thead th {\n",
       "        text-align: right;\n",
       "    }\n",
       "</style>\n",
       "<table border=\"1\" class=\"dataframe\">\n",
       "  <thead>\n",
       "    <tr style=\"text-align: right;\">\n",
       "      <th></th>\n",
       "      <th>director_name</th>\n",
       "      <th>num_critic_for_reviews</th>\n",
       "      <th>duration</th>\n",
       "      <th>genres</th>\n",
       "      <th>actor_1_name</th>\n",
       "      <th>actor_2_name</th>\n",
       "      <th>actor_3_name</th>\n",
       "      <th>gross</th>\n",
       "      <th>movie_title</th>\n",
       "      <th>num_voted_users</th>\n",
       "      <th>plot_keywords</th>\n",
       "      <th>budget</th>\n",
       "      <th>title_year</th>\n",
       "      <th>imdb_score</th>\n",
       "    </tr>\n",
       "  </thead>\n",
       "  <tbody>\n",
       "    <tr>\n",
       "      <th>1</th>\n",
       "      <td>Gore Verbinski</td>\n",
       "      <td>302.0</td>\n",
       "      <td>169.0</td>\n",
       "      <td>Action|Adventure|Fantasy</td>\n",
       "      <td>Johnny Depp</td>\n",
       "      <td>Orlando Bloom</td>\n",
       "      <td>Jack Davenport</td>\n",
       "      <td>309404152.0</td>\n",
       "      <td>Pirates of the Caribbean: At World's End</td>\n",
       "      <td>471220</td>\n",
       "      <td>goddess|marriage ceremony|marriage proposal|pi...</td>\n",
       "      <td>300000000.0</td>\n",
       "      <td>2007.0</td>\n",
       "      <td>7.1</td>\n",
       "    </tr>\n",
       "    <tr>\n",
       "      <th>1485</th>\n",
       "      <td>Hayao Miyazaki</td>\n",
       "      <td>256.0</td>\n",
       "      <td>101.0</td>\n",
       "      <td>Adventure|Animation|Family|Fantasy</td>\n",
       "      <td>Rumi Hiiragi</td>\n",
       "      <td>Yûki Amami</td>\n",
       "      <td>Yuria Nara</td>\n",
       "      <td>15081783.0</td>\n",
       "      <td>Ponyo</td>\n",
       "      <td>85589</td>\n",
       "      <td>children adventure|magical realism|sea goddess...</td>\n",
       "      <td>34000000.0</td>\n",
       "      <td>2008.0</td>\n",
       "      <td>7.7</td>\n",
       "    </tr>\n",
       "  </tbody>\n",
       "</table>\n",
       "</div>"
      ]
     },
     "execution_count": 8,
     "metadata": {},
     "output_type": "execute_result"
    }
   ],
   "execution_count": 8
  }
 ],
 "metadata": {
  "kernelspec": {
   "display_name": "Python 3",
   "language": "python",
   "name": "python3"
  },
  "language_info": {
   "codemirror_mode": {
    "name": "ipython",
    "version": 2
   },
   "file_extension": ".py",
   "mimetype": "text/x-python",
   "name": "python",
   "nbconvert_exporter": "python",
   "pygments_lexer": "ipython2",
   "version": "2.7.6"
  }
 },
 "nbformat": 4,
 "nbformat_minor": 5
}
