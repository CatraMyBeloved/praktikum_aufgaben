{
 "cells": [
  {
   "cell_type": "markdown",
   "id": "nrh1z3bbe2",
   "source": "# Praktikum Datenanalyse - Arbeitsumgebung\n\nWillkommen zu eurem Praktikumstag! Ihr werdet heute drei spannende Datensätze erforschen und dabei lernen, wie man Daten analysiert und visualisiert.",
   "metadata": {}
  },
  {
   "cell_type": "code",
   "id": "initial_id",
   "metadata": {
    "collapsed": true,
    "ExecuteTime": {
     "end_time": "2025-09-24T09:58:06.825179Z",
     "start_time": "2025-09-24T09:58:06.807084Z"
    }
   },
   "source": [
    "import pandas as pd\n",
    "import numpy as np\n",
    "import matplotlib.pyplot as plt\n",
    "import seaborn as sns\n",
    "from src.helpers import *"
   ],
   "outputs": [],
   "execution_count": 1
  },
  {
   "cell_type": "markdown",
   "id": "l3txjcsp7vn",
   "source": "## Helper-Funktionen\n\nWir haben für euch eine Sammlung von Hilfsfunktionen erstellt, die komplizierte pandas-Syntax verstecken:\n\n**`load_dataset(dataset, filtered=True)`** - Lädt einen der drei Datensätze ('movies', 'olympics', 'spotify')\n\n**`filter_data(data, **filters)`** - Filtert Daten nach Kriterien (z.B. `title_year=2010`, `imdb_score_min=7.0`)\n\n**`add_columns(data, **new_cols)`** - Erstellt neue Spalten mit einfachen Formeln\n\n**`summarize_by_group(data, group_by, metrics, func='mean')`** - Gruppiert und fasst Daten zusammen\n\n**`get_top_n(data, sort_by, n=10, direction='top')`** - Findet die besten/schlechtesten Einträge\n\n**`plot(data, plot_type, x, y=None)`** - Erstellt schnell Visualisierungen ('distribution', 'relationship')",
   "metadata": {}
  },
  {
   "metadata": {},
   "cell_type": "code",
   "outputs": [],
   "execution_count": null,
   "source": "",
   "id": "809abd39e532d5b5"
  }
 ],
 "metadata": {
  "kernelspec": {
   "display_name": "Python 3",
   "language": "python",
   "name": "python3"
  },
  "language_info": {
   "codemirror_mode": {
    "name": "ipython",
    "version": 2
   },
   "file_extension": ".py",
   "mimetype": "text/x-python",
   "name": "python",
   "nbconvert_exporter": "python",
   "pygments_lexer": "ipython2",
   "version": "2.7.6"
  }
 },
 "nbformat": 4,
 "nbformat_minor": 5
}